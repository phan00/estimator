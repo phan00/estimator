{
 "cells": [
  {
   "cell_type": "code",
   "execution_count": null,
   "metadata": {},
   "outputs": [],
   "source": []
  },
  {
   "cell_type": "code",
   "execution_count": 1,
   "metadata": {},
   "outputs": [],
   "source": [
    "import cv2\n",
    "import pytesseract\n",
    "from IPython.display import display, Math\n",
    "\n",
    "\n",
    "image = cv2.imread('/home/brig/Pictures/ksnip_20230710-134802.png')\n",
    "text = pytesseract.image_to_string(image)\n"
   ]
  },
  {
   "cell_type": "code",
   "execution_count": null,
   "metadata": {},
   "outputs": [],
   "source": []
  },
  {
   "cell_type": "code",
   "execution_count": 2,
   "metadata": {},
   "outputs": [
    {
     "data": {
      "text/latex": [
       "$\\displaystyle R= dt = xp) = (dy — af + (ad + + — at?\n",
       "\f",
       "$"
      ],
      "text/plain": [
       "<IPython.core.display.Math object>"
      ]
     },
     "metadata": {},
     "output_type": "display_data"
    },
    {
     "data": {
      "text/latex": [
       "$\\displaystyle \\sum_{i=1}^{n} x_i$"
      ],
      "text/plain": [
       "<IPython.core.display.Math object>"
      ]
     },
     "metadata": {},
     "output_type": "display_data"
    }
   ],
   "source": [
    "display(Math(text))\n",
    "\n",
    "formula = r'\\sum_{i=1}^{n} x_i'\n",
    "display(Math(formula))"
   ]
  },
  {
   "cell_type": "code",
   "execution_count": null,
   "metadata": {},
   "outputs": [],
   "source": []
  },
  {
   "cell_type": "code",
   "execution_count": 3,
   "metadata": {},
   "outputs": [
    {
     "data": {
      "text/latex": [
       "$\\displaystyle \\begin{pmatrix} b_{11} & b_{12} \\\\ b_{21} & b_{22} \\end{pmatrix} $"
      ],
      "text/plain": [
       "<IPython.core.display.Math object>"
      ]
     },
     "metadata": {},
     "output_type": "display_data"
    }
   ],
   "source": [
    "matrix = r'\\begin{pmatrix} b_{11} & b_{12} \\\\ b_{21} & b_{22} \\end{pmatrix} '\n",
    "display(Math(matrix))"
   ]
  },
  {
   "cell_type": "code",
   "execution_count": 4,
   "metadata": {},
   "outputs": [
    {
     "data": {
      "text/latex": [
       "$\\displaystyle \\begin{pmatrix} b_{11} & b_{12} \\\\ b_{21} & b_{22} \\end{pmatrix} $"
      ],
      "text/plain": [
       "<IPython.core.display.Math object>"
      ]
     },
     "metadata": {},
     "output_type": "display_data"
    }
   ],
   "source": [
    "matrix = r'\\begin{pmatrix} b_{11} & b_{12} \\\\ b_{21} & b_{22} \\end{pmatrix} '\n",
    "display(Math(matrix))\n"
   ]
  },
  {
   "cell_type": "code",
   "execution_count": 5,
   "metadata": {},
   "outputs": [
    {
     "data": {
      "text/latex": [
       "$\\displaystyle R=\\sum_{k=1}^n\\left(\\hat{x}_k-x_k^*\\right)^2=\\sum_{k=1}^n\\left(a_0-x_k^*\\right)^2$"
      ],
      "text/plain": [
       "<IPython.core.display.Math object>"
      ]
     },
     "metadata": {},
     "output_type": "display_data"
    }
   ],
   "source": [
    "f = r'R=\\sum_{k=1}^n\\left(\\hat{x}_k-x_k^*\\right)^2=\\sum_{k=1}^n\\left(a_0-x_k^*\\right)^2'\n",
    "display(Math(f))\n"
   ]
  },
  {
   "cell_type": "code",
   "execution_count": 6,
   "metadata": {},
   "outputs": [
    {
     "data": {
      "text/markdown": [
       "В этой формуле использована знаменитая формула Эйнштейна: $E=mc^2$\n",
       "# This is a level 1 heading\n",
       "## This is a level 2 heading\n",
       "This is some plain text that forms a paragraph.\n",
       "Add emphasis via **bold** and __bold__, or *italic* and _italic_.\n",
       "Paragraphs must be separated by an empty line.\n",
       "* Sometimes we want to include lists.\n",
       "* Which can be indented.\n",
       "1. Lists can also be numbered.\n",
       "2. For ordered lists.\n",
       "[It is possible to include hyperlinks](https://www.example.com)\n",
       "Inline code uses single backticks: `foo()`, and code blocks use triple backticks:\n",
       "```\n",
       "bar()\n",
       "\n",
       "```\n",
       "\n",
       "формула: $R=\\sum_{k=1}^n\\left(\\hat{x}_k-x_k^*\\right)^2=\\sum_{k=1}^n\\left(a_0-x_k^*\\right)^2$\n",
       "\n",
       "Or can be indented by 4 spaces:\n",
       "    foo()\n",
       "And finally, adding images is easy: ![Alt text](https://www.example.com/image.jpg)\n",
       "%%python\n",
       "a = 1\n",
       "b = 1\n",
       "print(a+b)\n"
      ],
      "text/plain": [
       "<IPython.core.display.Markdown object>"
      ]
     },
     "metadata": {},
     "output_type": "display_data"
    }
   ],
   "source": [
    "%%markdown\n",
    "В этой формуле использована знаменитая формула Эйнштейна: $E=mc^2$\n",
    "# This is a level 1 heading\n",
    "## This is a level 2 heading\n",
    "This is some plain text that forms a paragraph.\n",
    "Add emphasis via **bold** and __bold__, or *italic* and _italic_.\n",
    "Paragraphs must be separated by an empty line.\n",
    "* Sometimes we want to include lists.\n",
    "* Which can be indented.\n",
    "1. Lists can also be numbered.\n",
    "2. For ordered lists.\n",
    "[It is possible to include hyperlinks](https://www.example.com)\n",
    "Inline code uses single backticks: `foo()`, and code blocks use triple backticks:\n",
    "```\n",
    "bar()\n",
    "\n",
    "```\n",
    "\n",
    "формула: $R=\\sum_{k=1}^n\\left(\\hat{x}_k-x_k^*\\right)^2=\\sum_{k=1}^n\\left(a_0-x_k^*\\right)^2$\n",
    "\n",
    "Or can be indented by 4 spaces:\n",
    "    foo()\n",
    "And finally, adding images is easy: ![Alt text](https://www.example.com/image.jpg)\n",
    "%%python\n",
    "a = 1\n",
    "b = 1\n",
    "print(a+b)"
   ]
  },
  {
   "cell_type": "code",
   "execution_count": 7,
   "metadata": {},
   "outputs": [
    {
     "name": "stdout",
     "output_type": "stream",
     "text": [
      "2\n"
     ]
    }
   ],
   "source": [
    "%%python\n",
    "a = 1\n",
    "b = 1\n",
    "print(a+b)"
   ]
  }
 ],
 "metadata": {
  "kernelspec": {
   "display_name": "Python 3 (ipykernel)",
   "language": "python",
   "name": "python3"
  },
  "language_info": {
   "codemirror_mode": {
    "name": "ipython",
    "version": 3
   },
   "file_extension": ".py",
   "mimetype": "text/x-python",
   "name": "python",
   "nbconvert_exporter": "python",
   "pygments_lexer": "ipython3",
   "version": "3.10.6"
  }
 },
 "nbformat": 4,
 "nbformat_minor": 1
}
