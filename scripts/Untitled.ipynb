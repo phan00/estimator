{
 "cells": [
  {
   "cell_type": "code",
   "execution_count": null,
   "id": "da3420e8",
   "metadata": {},
   "outputs": [],
   "source": [
    "a = 3."
   ]
  },
  {
   "cell_type": "markdown",
   "id": "6a2c1c7d",
   "metadata": {
    "variables": {
     "a": {}
    }
   },
   "source": [
    "a is {{a}}"
   ]
  },
  {
   "cell_type": "code",
   "execution_count": null,
   "id": "d20075fc",
   "metadata": {},
   "outputs": [],
   "source": []
  }
 ],
 "metadata": {
  "kernelspec": {
   "display_name": "Python 3 (ipykernel)",
   "language": "python",
   "name": "python3"
  },
  "language_info": {
   "codemirror_mode": {
    "name": "ipython",
    "version": 3
   },
   "file_extension": ".py",
   "mimetype": "text/x-python",
   "name": "python",
   "nbconvert_exporter": "python",
   "pygments_lexer": "ipython3",
   "version": "3.10.6"
  }
 },
 "nbformat": 4,
 "nbformat_minor": 5
}
